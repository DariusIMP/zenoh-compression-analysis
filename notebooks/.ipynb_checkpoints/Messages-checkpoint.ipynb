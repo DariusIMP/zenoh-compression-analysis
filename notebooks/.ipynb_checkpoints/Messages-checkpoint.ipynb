{
 "cells": [
  {
   "cell_type": "markdown",
   "id": "562e56c3",
   "metadata": {},
   "source": [
    "# Messages throughput"
   ]
  },
  {
   "cell_type": "markdown",
   "id": "020352cb",
   "metadata": {},
   "source": [
    "In this notebook, we do an analysis of the average amount of messages we get to send compressed per second."
   ]
  },
  {
   "cell_type": "markdown",
   "id": "71164786",
   "metadata": {},
   "source": [
    "For this we ran as a publisher:\n",
    "```\n",
    " ./target/release/examples/z_pub_thr 8 -m peer --no-multicast-scouting -e tcp/127.0.0.1:7447\n",
    "```\n",
    "and as a receiver\n",
    "```\n",
    "./target/release/examples/z_sub_thr -m peer --no-multicast-scouting -l tcp/127.0.0.1:7447 -n 10000 -s 1000\n",
    "```\n",
    "\n",
    "varying the size of the messages size from 8 bytes to 56KB. For 64KB message size an error occurs that is yet to be determined what happened (something related to the orchestrator).\n",
    "\n",
    "A python script was used to generate all the output results, which can be found on this repo under script.py:"
   ]
  },
  {
   "cell_type": "code",
   "execution_count": 4,
   "id": "e5daa674",
   "metadata": {},
   "outputs": [
    {
     "name": "stdout",
     "output_type": "stream",
     "text": [
      "import subprocess\r\n",
      "\r\n",
      "KB = 1024\r\n",
      "\r\n",
      "SIZES = [8, 16, 32, 64, 128, 256, 512, KB, 2*KB, 4*KB, 8*KB, 16*KB, 24*KB, 32*KB, 40*KB, 48*KB, 56*KB, 64*KB]\r\n",
      "\r\n",
      "def run_compression():\r\n",
      "    rcv_cmds = [\"./target/release/examples/z_sub_thr\", \"-m\", \"peer\", \"--no-multicast-scouting\", \"-l\", \"tcp/127.0.0.1:7447\", \"-n\", \"10000\", \"-s\", \"1000\"]\r\n",
      "    for size in SIZES:\r\n",
      "        send_cmds = [\"./target/release/examples/z_pub_thr\", str(size), \"-m\", \"peer\", \"--no-multicast-scouting\", \"-e\", \"tcp/127.0.0.1:7447\"]\r\n",
      "        log_file = \"compression_logs/compression_\" + str(size) + \".txt\"\r\n",
      "        f = open(log_file, \"w\")\r\n",
      "        sender = subprocess.Popen(send_cmds)\r\n",
      "        receiver = subprocess.Popen(rcv_cmds, stdout=f)\r\n",
      "        receiver.wait()\r\n",
      "        sender.terminate()\r\n",
      "\r\n",
      "run_compression()\r\n"
     ]
    }
   ],
   "source": [
    "cat ../script.py"
   ]
  },
  {
   "cell_type": "code",
   "execution_count": null,
   "id": "bcbb1de0",
   "metadata": {},
   "outputs": [],
   "source": [
    "def parse_file(file: _FILE) -> [float]:\n",
    "    lines = file.readlines()\n",
    "    for line in file:\n",
    "        "
   ]
  },
  {
   "cell_type": "code",
   "execution_count": 2,
   "id": "fa74f662",
   "metadata": {},
   "outputs": [],
   "source": [
    "import numpy\n",
    "\n",
    "def calculate_avg_msgs(measurements: [float]):\n",
    "    return numpy.np.average(measurements)\n",
    "\n"
   ]
  }
 ],
 "metadata": {
  "kernelspec": {
   "display_name": "Python 3 (ipykernel)",
   "language": "python",
   "name": "python3"
  },
  "language_info": {
   "codemirror_mode": {
    "name": "ipython",
    "version": 3
   },
   "file_extension": ".py",
   "mimetype": "text/x-python",
   "name": "python",
   "nbconvert_exporter": "python",
   "pygments_lexer": "ipython3",
   "version": "3.11.3"
  }
 },
 "nbformat": 4,
 "nbformat_minor": 5
}
