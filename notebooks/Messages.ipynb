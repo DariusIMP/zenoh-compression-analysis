{
 "cells": [
  {
   "attachments": {},
   "cell_type": "markdown",
   "id": "562e56c3",
   "metadata": {},
   "source": [
    "# Messages throughput"
   ]
  },
  {
   "attachments": {},
   "cell_type": "markdown",
   "id": "020352cb",
   "metadata": {},
   "source": [
    "In this notebook, we do an analysis of the average amount of messages we get to send compressed per second for a worst case scenario of a payload with a high entropy composed of random numbers.\n",
    "\n",
    "These tests have been run on the commit 79551eaa from branch compression."
   ]
  },
  {
   "attachments": {},
   "cell_type": "markdown",
   "id": "71164786",
   "metadata": {},
   "source": [
    "For this we ran as a publisher:\n",
    "```\n",
    " ./target/release/examples/z_pub_thr 8 -m peer -c test.json5 --high-entropy --no-multicast-scouting -e tcp/127.0.0.1:7447\n",
    "```\n",
    "and as a receiver\n",
    "```\n",
    "./target/release/examples/z_sub_thr -m peer --no-multicast-scouting -l tcp/127.0.0.1:7447 -n 10000 -s 1000\n",
    "```\n",
    "\n",
    "varying the size of the messages size from 8 bytes to 56KB. For 64KB message size an error occurs that is yet to be determined what happened (something related to the orchestrator).\n",
    "\n",
    "A python script was used to generate all the output results, which can be found on this repo under script.py:"
   ]
  },
  {
   "cell_type": "code",
   "execution_count": 24,
   "id": "e5daa674",
   "metadata": {},
   "outputs": [
    {
     "name": "stdout",
     "output_type": "stream",
     "text": [
      "import subprocess\n",
      "\n",
      "KB = 1024\n",
      "\n",
      "SIZES = [8, 16, 32, 64, 128, 256, 512, KB, 2*KB, 4*KB, 8*KB, 16*KB, 24*KB, 32*KB, 40*KB, 48*KB, 56*KB, 64*KB]\n",
      "\n",
      "def run_compression():\n",
      "    rcv_cmds = [\"./target/release/examples/z_sub_thr\", \"-m\", \"peer\", \"--no-multicast-scouting\", \"-l\", \"tcp/127.0.0.1:7447\", \"-n\", \"10000\", \"-s\", \"1000\"]\n",
      "    for size in SIZES:\n",
      "        send_cmds = [\"./target/release/examples/z_pub_thr\", str(size), \"-m\", \"peer\", \"-c\", \"test.json5\", \"--no-multicast-scouting\", \"--high-entropy\", \"-e\", \"tcp/127.0.0.1:7447\"]\n",
      "        log_file = \"compression_logs/compression_\" + str(size) + \".txt\"\n",
      "        batch_size_file = \"batch_sizes/batch_size_\" + str(size) + \".txt\"\n",
      "        f1 = open(log_file, \"w\")\n",
      "        f2 = open(batch_size_file, \"w\")\n",
      "        receiver = subprocess.Popen(rcv_cmds, stdout=f1)\n",
      "        sender = subprocess.Popen(send_cmds, stdout=f2)\n",
      "        receiver.wait()\n",
      "        sender.terminate()\n",
      "\n",
      "run_compression()\n"
     ]
    }
   ],
   "source": [
    "cat ../script.py"
   ]
  },
  {
   "attachments": {},
   "cell_type": "markdown",
   "id": "ebcdf55f",
   "metadata": {},
   "source": [
    "Where in test.json5 we enable the compression."
   ]
  },
  {
   "cell_type": "code",
   "execution_count": 25,
   "id": "654778dc",
   "metadata": {},
   "outputs": [],
   "source": [
    "import pandas as pd\n",
    "import matplotlib.pyplot as plt\n"
   ]
  },
  {
   "cell_type": "code",
   "execution_count": 26,
   "id": "942d6270",
   "metadata": {},
   "outputs": [],
   "source": [
    "KB = 1024\n",
    "SIZES = [8, 16, 32, 64, 128, 256, 512, KB, 2*KB, 4*KB, 8*KB, 16*KB, 24*KB, 32*KB, 40*KB, 48*KB, 56*KB]"
   ]
  },
  {
   "cell_type": "code",
   "execution_count": 27,
   "id": "bcbb1de0",
   "metadata": {},
   "outputs": [],
   "source": [
    "def parse_file(filename):\n",
    "    file = open(filename, 'r')\n",
    "    lines = file.readlines()\n",
    "    measurements = []\n",
    "    for line in lines:\n",
    "        measurement = line.strip(' msg/s\\n')\n",
    "        measurements = measurements + [float(measurement)]\n",
    "    return measurements\n",
    "        "
   ]
  },
  {
   "cell_type": "code",
   "execution_count": 28,
   "id": "cb519465",
   "metadata": {},
   "outputs": [
    {
     "data": {
      "text/plain": [
       "[1, 2, 3, 4]"
      ]
     },
     "execution_count": 28,
     "metadata": {},
     "output_type": "execute_result"
    }
   ],
   "source": [
    "a = [1,2,3]\n",
    "a = a + [4]\n",
    "a"
   ]
  },
  {
   "cell_type": "code",
   "execution_count": 29,
   "id": "fa74f662",
   "metadata": {},
   "outputs": [],
   "source": [
    "import numpy as np\n",
    "\n",
    "def calculate_avg_msgs(measurements):\n",
    "    return np.average(measurements)"
   ]
  },
  {
   "cell_type": "code",
   "execution_count": 30,
   "id": "4df3174c",
   "metadata": {},
   "outputs": [
    {
     "name": "stdout",
     "output_type": "stream",
     "text": [
      "{8: 5228442.539722652, 16: 5544021.9357960075, 32: 5561968.033888417, 64: 5463115.040434198, 128: 5291871.082228159, 256: 4972713.586898372, 512: 4230945.263329854, 1024: 3410526.8011144083, 2048: 2521838.818963517, 4096: 1644024.9608445007, 8192: 717332.949988796, 16384: 258781.61561063924, 24576: 144316.7301232572, 32768: 66273.81570667727, 40960: 59638.682597424064, 49152: 51448.51106977467, 57344: 44653.467288018575}\n",
      "{8: 5259589.025440426, 16: 5647642.823842117, 32: 5411261.16083261, 64: 5489974.706304184, 128: 5258755.227125162, 256: 4975111.597700903, 512: 4315851.261476877, 1024: 3481602.851945176, 2048: 2551689.2444185247, 4096: 1627052.170540244, 8192: 774784.8356429185, 16384: 301426.98370689974, 24576: 192511.85834188483, 32768: 95216.69773043442, 40960: 89061.13586262074, 49152: 82275.91632493949, 57344: 77083.43411090836}\n"
     ]
    }
   ],
   "source": [
    "averages_low_entropy = {}\n",
    "averages_high_entropy = {}\n",
    "for size in SIZES:\n",
    "    averages_low_entropy[size] = calculate_avg_msgs(parse_file('../low_entropy/compression_logs/compression_' + str(size) + '.txt'))\n",
    "    averages_high_entropy[size] = calculate_avg_msgs(parse_file('../high_entropy2/compression_logs/compression_' + str(size) + '.txt'))\n",
    "\n",
    "print(averages_low_entropy)\n",
    "print(averages_high_entropy)"
   ]
  },
  {
   "cell_type": "code",
   "execution_count": 31,
   "id": "5e6243ae",
   "metadata": {},
   "outputs": [],
   "source": [
    "df_low_entropy = pd.DataFrame(averages_low_entropy.items())\n",
    "df_high_entropy = pd.DataFrame(averages_high_entropy.items())"
   ]
  },
  {
   "cell_type": "code",
   "execution_count": 32,
   "id": "0334ed54",
   "metadata": {},
   "outputs": [
    {
     "data": {
      "text/html": [
       "<div>\n",
       "<style scoped>\n",
       "    .dataframe tbody tr th:only-of-type {\n",
       "        vertical-align: middle;\n",
       "    }\n",
       "\n",
       "    .dataframe tbody tr th {\n",
       "        vertical-align: top;\n",
       "    }\n",
       "\n",
       "    .dataframe thead th {\n",
       "        text-align: right;\n",
       "    }\n",
       "</style>\n",
       "<table border=\"1\" class=\"dataframe\">\n",
       "  <thead>\n",
       "    <tr style=\"text-align: right;\">\n",
       "      <th></th>\n",
       "      <th>0</th>\n",
       "      <th>1</th>\n",
       "    </tr>\n",
       "  </thead>\n",
       "  <tbody>\n",
       "    <tr>\n",
       "      <th>0</th>\n",
       "      <td>8</td>\n",
       "      <td>5.228443e+06</td>\n",
       "    </tr>\n",
       "    <tr>\n",
       "      <th>1</th>\n",
       "      <td>16</td>\n",
       "      <td>5.544022e+06</td>\n",
       "    </tr>\n",
       "    <tr>\n",
       "      <th>2</th>\n",
       "      <td>32</td>\n",
       "      <td>5.561968e+06</td>\n",
       "    </tr>\n",
       "    <tr>\n",
       "      <th>3</th>\n",
       "      <td>64</td>\n",
       "      <td>5.463115e+06</td>\n",
       "    </tr>\n",
       "    <tr>\n",
       "      <th>4</th>\n",
       "      <td>128</td>\n",
       "      <td>5.291871e+06</td>\n",
       "    </tr>\n",
       "    <tr>\n",
       "      <th>5</th>\n",
       "      <td>256</td>\n",
       "      <td>4.972714e+06</td>\n",
       "    </tr>\n",
       "    <tr>\n",
       "      <th>6</th>\n",
       "      <td>512</td>\n",
       "      <td>4.230945e+06</td>\n",
       "    </tr>\n",
       "    <tr>\n",
       "      <th>7</th>\n",
       "      <td>1024</td>\n",
       "      <td>3.410527e+06</td>\n",
       "    </tr>\n",
       "    <tr>\n",
       "      <th>8</th>\n",
       "      <td>2048</td>\n",
       "      <td>2.521839e+06</td>\n",
       "    </tr>\n",
       "    <tr>\n",
       "      <th>9</th>\n",
       "      <td>4096</td>\n",
       "      <td>1.644025e+06</td>\n",
       "    </tr>\n",
       "    <tr>\n",
       "      <th>10</th>\n",
       "      <td>8192</td>\n",
       "      <td>7.173329e+05</td>\n",
       "    </tr>\n",
       "    <tr>\n",
       "      <th>11</th>\n",
       "      <td>16384</td>\n",
       "      <td>2.587816e+05</td>\n",
       "    </tr>\n",
       "    <tr>\n",
       "      <th>12</th>\n",
       "      <td>24576</td>\n",
       "      <td>1.443167e+05</td>\n",
       "    </tr>\n",
       "    <tr>\n",
       "      <th>13</th>\n",
       "      <td>32768</td>\n",
       "      <td>6.627382e+04</td>\n",
       "    </tr>\n",
       "    <tr>\n",
       "      <th>14</th>\n",
       "      <td>40960</td>\n",
       "      <td>5.963868e+04</td>\n",
       "    </tr>\n",
       "    <tr>\n",
       "      <th>15</th>\n",
       "      <td>49152</td>\n",
       "      <td>5.144851e+04</td>\n",
       "    </tr>\n",
       "    <tr>\n",
       "      <th>16</th>\n",
       "      <td>57344</td>\n",
       "      <td>4.465347e+04</td>\n",
       "    </tr>\n",
       "  </tbody>\n",
       "</table>\n",
       "</div>"
      ],
      "text/plain": [
       "        0             1\n",
       "0       8  5.228443e+06\n",
       "1      16  5.544022e+06\n",
       "2      32  5.561968e+06\n",
       "3      64  5.463115e+06\n",
       "4     128  5.291871e+06\n",
       "5     256  4.972714e+06\n",
       "6     512  4.230945e+06\n",
       "7    1024  3.410527e+06\n",
       "8    2048  2.521839e+06\n",
       "9    4096  1.644025e+06\n",
       "10   8192  7.173329e+05\n",
       "11  16384  2.587816e+05\n",
       "12  24576  1.443167e+05\n",
       "13  32768  6.627382e+04\n",
       "14  40960  5.963868e+04\n",
       "15  49152  5.144851e+04\n",
       "16  57344  4.465347e+04"
      ]
     },
     "execution_count": 32,
     "metadata": {},
     "output_type": "execute_result"
    }
   ],
   "source": [
    "df_low_entropy"
   ]
  },
  {
   "cell_type": "code",
   "execution_count": 33,
   "id": "44e5e0f4",
   "metadata": {},
   "outputs": [
    {
     "data": {
      "text/html": [
       "<div>\n",
       "<style scoped>\n",
       "    .dataframe tbody tr th:only-of-type {\n",
       "        vertical-align: middle;\n",
       "    }\n",
       "\n",
       "    .dataframe tbody tr th {\n",
       "        vertical-align: top;\n",
       "    }\n",
       "\n",
       "    .dataframe thead th {\n",
       "        text-align: right;\n",
       "    }\n",
       "</style>\n",
       "<table border=\"1\" class=\"dataframe\">\n",
       "  <thead>\n",
       "    <tr style=\"text-align: right;\">\n",
       "      <th></th>\n",
       "      <th>0</th>\n",
       "      <th>1</th>\n",
       "    </tr>\n",
       "  </thead>\n",
       "  <tbody>\n",
       "    <tr>\n",
       "      <th>0</th>\n",
       "      <td>8</td>\n",
       "      <td>5.259589e+06</td>\n",
       "    </tr>\n",
       "    <tr>\n",
       "      <th>1</th>\n",
       "      <td>16</td>\n",
       "      <td>5.647643e+06</td>\n",
       "    </tr>\n",
       "    <tr>\n",
       "      <th>2</th>\n",
       "      <td>32</td>\n",
       "      <td>5.411261e+06</td>\n",
       "    </tr>\n",
       "    <tr>\n",
       "      <th>3</th>\n",
       "      <td>64</td>\n",
       "      <td>5.489975e+06</td>\n",
       "    </tr>\n",
       "    <tr>\n",
       "      <th>4</th>\n",
       "      <td>128</td>\n",
       "      <td>5.258755e+06</td>\n",
       "    </tr>\n",
       "    <tr>\n",
       "      <th>5</th>\n",
       "      <td>256</td>\n",
       "      <td>4.975112e+06</td>\n",
       "    </tr>\n",
       "    <tr>\n",
       "      <th>6</th>\n",
       "      <td>512</td>\n",
       "      <td>4.315851e+06</td>\n",
       "    </tr>\n",
       "    <tr>\n",
       "      <th>7</th>\n",
       "      <td>1024</td>\n",
       "      <td>3.481603e+06</td>\n",
       "    </tr>\n",
       "    <tr>\n",
       "      <th>8</th>\n",
       "      <td>2048</td>\n",
       "      <td>2.551689e+06</td>\n",
       "    </tr>\n",
       "    <tr>\n",
       "      <th>9</th>\n",
       "      <td>4096</td>\n",
       "      <td>1.627052e+06</td>\n",
       "    </tr>\n",
       "    <tr>\n",
       "      <th>10</th>\n",
       "      <td>8192</td>\n",
       "      <td>7.747848e+05</td>\n",
       "    </tr>\n",
       "    <tr>\n",
       "      <th>11</th>\n",
       "      <td>16384</td>\n",
       "      <td>3.014270e+05</td>\n",
       "    </tr>\n",
       "    <tr>\n",
       "      <th>12</th>\n",
       "      <td>24576</td>\n",
       "      <td>1.925119e+05</td>\n",
       "    </tr>\n",
       "    <tr>\n",
       "      <th>13</th>\n",
       "      <td>32768</td>\n",
       "      <td>9.521670e+04</td>\n",
       "    </tr>\n",
       "    <tr>\n",
       "      <th>14</th>\n",
       "      <td>40960</td>\n",
       "      <td>8.906114e+04</td>\n",
       "    </tr>\n",
       "    <tr>\n",
       "      <th>15</th>\n",
       "      <td>49152</td>\n",
       "      <td>8.227592e+04</td>\n",
       "    </tr>\n",
       "    <tr>\n",
       "      <th>16</th>\n",
       "      <td>57344</td>\n",
       "      <td>7.708343e+04</td>\n",
       "    </tr>\n",
       "  </tbody>\n",
       "</table>\n",
       "</div>"
      ],
      "text/plain": [
       "        0             1\n",
       "0       8  5.259589e+06\n",
       "1      16  5.647643e+06\n",
       "2      32  5.411261e+06\n",
       "3      64  5.489975e+06\n",
       "4     128  5.258755e+06\n",
       "5     256  4.975112e+06\n",
       "6     512  4.315851e+06\n",
       "7    1024  3.481603e+06\n",
       "8    2048  2.551689e+06\n",
       "9    4096  1.627052e+06\n",
       "10   8192  7.747848e+05\n",
       "11  16384  3.014270e+05\n",
       "12  24576  1.925119e+05\n",
       "13  32768  9.521670e+04\n",
       "14  40960  8.906114e+04\n",
       "15  49152  8.227592e+04\n",
       "16  57344  7.708343e+04"
      ]
     },
     "execution_count": 33,
     "metadata": {},
     "output_type": "execute_result"
    }
   ],
   "source": [
    "df_high_entropy"
   ]
  },
  {
   "cell_type": "code",
   "execution_count": 34,
   "id": "de15b8fd",
   "metadata": {},
   "outputs": [],
   "source": [
    "def plot_messages_per_second():\n",
    "    fig, ax = plt.subplots()\n",
    "\n",
    "    ax.plot(df_low_entropy[0], df_low_entropy[1], label=\"Low entropy\", marker='o')\n",
    "    ax.plot(df_high_entropy[0], df_high_entropy[1], label=\"High entropy\", marker='o')\n",
    "\n",
    "    ax.set_xticks(df_low_entropy[0])\n",
    "    ax.set_ylabel('Msgs/s')\n",
    "    ax.set_xlabel('Message size')\n",
    "    ax.set_xscale('log')\n",
    "    ax.set_title('Average messages per second depending on the size of the message with compression with a low entropy payload')\n",
    "    ax.grid(True)\n",
    "    ax.legend(loc='center right', ncols=1)\n",
    "    fig.set_figwidth(15)\n",
    "    # ax.tick_params(labelcolor='r', labelsize='medium', width=3)\n",
    "    plt.show()\n"
   ]
  },
  {
   "cell_type": "code",
   "execution_count": 35,
   "id": "a0675038",
   "metadata": {},
   "outputs": [
    {
     "data": {
      "image/png": "[encoded data removed]",
      "text/plain": [
       "<Figure size 1500x480 with 1 Axes>"
      ]
     },
     "metadata": {},
     "output_type": "display_data"
    }
   ],
   "source": [
    "plot_messages_per_second()"
   ]
  }
 ],
 "metadata": {
  "kernelspec": {
   "display_name": "Python 3 (ipykernel)",
   "language": "python",
   "name": "python3"
  },
  "language_info": {
   "codemirror_mode": {
    "name": "ipython",
    "version": 3
   },
   "file_extension": ".py",
   "mimetype": "text/x-python",
   "name": "python",
   "nbconvert_exporter": "python",
   "pygments_lexer": "ipython3",
   "version": "3.10.11"
  }
 },
 "nbformat": 4,
 "nbformat_minor": 5
}
