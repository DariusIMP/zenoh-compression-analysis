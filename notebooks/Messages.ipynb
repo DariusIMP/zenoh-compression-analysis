{
 "cells": [
  {
   "attachments": {},
   "cell_type": "markdown",
   "id": "562e56c3",
   "metadata": {},
   "source": [
    "# Messages throughput"
   ]
  },
  {
   "attachments": {},
   "cell_type": "markdown",
   "id": "020352cb",
   "metadata": {},
   "source": [
    "In this notebook, we do an analysis of the average amount of messages we get to send compressed per second for a worst case scenario of a payload with a high entropy composed of random numbers."
   ]
  },
  {
   "attachments": {},
   "cell_type": "markdown",
   "id": "71164786",
   "metadata": {},
   "source": [
    "For this we ran as a publisher:\n",
    "```\n",
    " ./target/release/examples/z_pub_thr 8 -m peer --no-multicast-scouting -e tcp/127.0.0.1:7447\n",
    "```\n",
    "and as a receiver\n",
    "```\n",
    "./target/release/examples/z_sub_thr -m peer --no-multicast-scouting -l tcp/127.0.0.1:7447 -n 10000 -s 1000\n",
    "```\n",
    "\n",
    "varying the size of the messages size from 8 bytes to 56KB. For 64KB message size an error occurs that is yet to be determined what happened (something related to the orchestrator).\n",
    "\n",
    "A python script was used to generate all the output results, which can be found on this repo under script.py:"
   ]
  },
  {
   "cell_type": "code",
   "execution_count": 63,
   "id": "e5daa674",
   "metadata": {},
   "outputs": [
    {
     "name": "stdout",
     "output_type": "stream",
     "text": [
      "import subprocess\n",
      "\n",
      "KB = 1024\n",
      "\n",
      "SIZES = [8, 16, 32, 64, 128, 256, 512, KB, 2*KB, 4*KB, 8*KB, 16*KB, 24*KB, 32*KB, 40*KB, 48*KB, 56*KB, 64*KB]\n",
      "\n",
      "def run_compression():\n",
      "    rcv_cmds = [\"./target/release/examples/z_sub_thr\", \"-m\", \"peer\", \"--no-multicast-scouting\", \"-l\", \"tcp/127.0.0.1:7447\", \"-n\", \"10000\", \"-s\", \"1000\"]\n",
      "    for size in SIZES:\n",
      "        send_cmds = [\"./target/release/examples/z_pub_thr\", str(size), \"-m\", \"peer\", \"--no-multicast-scouting\", \"-e\", \"tcp/127.0.0.1:7447\"]\n",
      "        log_file = \"compression_logs/compression_\" + str(size) + \".txt\"\n",
      "        f = open(log_file, \"w\")\n",
      "        sender = subprocess.Popen(send_cmds)\n",
      "        receiver = subprocess.Popen(rcv_cmds, stdout=f)\n",
      "        receiver.wait()\n",
      "        sender.terminate()\n",
      "\n",
      "run_compression()\n"
     ]
    }
   ],
   "source": [
    "cat ../script.py"
   ]
  },
  {
   "cell_type": "code",
   "execution_count": 64,
   "id": "654778dc",
   "metadata": {},
   "outputs": [],
   "source": [
    "import pandas as pd\n",
    "import matplotlib.pyplot as plt\n"
   ]
  },
  {
   "cell_type": "code",
   "execution_count": 65,
   "id": "942d6270",
   "metadata": {},
   "outputs": [],
   "source": [
    "KB = 1024\n",
    "SIZES = [8, 16, 32, 64, 128, 256, 512, KB, 2*KB, 4*KB, 8*KB, 16*KB, 24*KB, 32*KB, 40*KB, 48*KB, 56*KB]"
   ]
  },
  {
   "cell_type": "code",
   "execution_count": 66,
   "id": "bcbb1de0",
   "metadata": {},
   "outputs": [],
   "source": [
    "def parse_file(filename):\n",
    "    file = open(filename, 'r')\n",
    "    lines = file.readlines()\n",
    "    measurements = []\n",
    "    for line in lines:\n",
    "        measurement = line.strip(' msg/s\\n')\n",
    "        measurements = measurements + [float(measurement)]\n",
    "    return measurements\n",
    "        "
   ]
  },
  {
   "cell_type": "code",
   "execution_count": 67,
   "id": "cb519465",
   "metadata": {},
   "outputs": [
    {
     "data": {
      "text/plain": [
       "[1, 2, 3, 4]"
      ]
     },
     "execution_count": 67,
     "metadata": {},
     "output_type": "execute_result"
    }
   ],
   "source": [
    "a = [1,2,3]\n",
    "a = a + [4]\n",
    "a"
   ]
  },
  {
   "cell_type": "code",
   "execution_count": 68,
   "id": "fa74f662",
   "metadata": {},
   "outputs": [],
   "source": [
    "import numpy as np\n",
    "\n",
    "def calculate_avg_msgs(measurements):\n",
    "    return np.average(measurements)"
   ]
  },
  {
   "cell_type": "code",
   "execution_count": 69,
   "id": "4df3174c",
   "metadata": {},
   "outputs": [
    {
     "name": "stdout",
     "output_type": "stream",
     "text": [
      "{8: 5378645.953882225, 16: 5783656.311262258, 32: 5552940.087370603, 64: 5417696.827440016, 128: 5151715.08816932, 256: 4746169.02903994, 512: 4066103.221182908, 1024: 3522292.0222718734, 2048: 2713795.6353271957, 4096: 1803642.017406879, 8192: 962495.5768201667, 16384: 449419.70148930146, 24576: 296131.095837066, 32768: 181446.95648821606, 40960: 169775.48061210132, 49152: 151003.83455338067, 57344: 143599.89304593712}\n"
     ]
    }
   ],
   "source": [
    "averages = {}\n",
    "for size in SIZES:\n",
    "    averages[size] = calculate_avg_msgs(parse_file('../compression_logs/compression_' + str(size) + '.txt'))\n",
    "\n",
    "print(averages)"
   ]
  },
  {
   "cell_type": "code",
   "execution_count": 70,
   "id": "5e6243ae",
   "metadata": {},
   "outputs": [],
   "source": [
    "df = pd.DataFrame(averages.items())"
   ]
  },
  {
   "cell_type": "code",
   "execution_count": 71,
   "id": "0334ed54",
   "metadata": {},
   "outputs": [
    {
     "data": {
      "text/html": [
       "<div>\n",
       "<style scoped>\n",
       "    .dataframe tbody tr th:only-of-type {\n",
       "        vertical-align: middle;\n",
       "    }\n",
       "\n",
       "    .dataframe tbody tr th {\n",
       "        vertical-align: top;\n",
       "    }\n",
       "\n",
       "    .dataframe thead th {\n",
       "        text-align: right;\n",
       "    }\n",
       "</style>\n",
       "<table border=\"1\" class=\"dataframe\">\n",
       "  <thead>\n",
       "    <tr style=\"text-align: right;\">\n",
       "      <th></th>\n",
       "      <th>0</th>\n",
       "      <th>1</th>\n",
       "    </tr>\n",
       "  </thead>\n",
       "  <tbody>\n",
       "    <tr>\n",
       "      <th>0</th>\n",
       "      <td>8</td>\n",
       "      <td>5.378646e+06</td>\n",
       "    </tr>\n",
       "    <tr>\n",
       "      <th>1</th>\n",
       "      <td>16</td>\n",
       "      <td>5.783656e+06</td>\n",
       "    </tr>\n",
       "    <tr>\n",
       "      <th>2</th>\n",
       "      <td>32</td>\n",
       "      <td>5.552940e+06</td>\n",
       "    </tr>\n",
       "    <tr>\n",
       "      <th>3</th>\n",
       "      <td>64</td>\n",
       "      <td>5.417697e+06</td>\n",
       "    </tr>\n",
       "    <tr>\n",
       "      <th>4</th>\n",
       "      <td>128</td>\n",
       "      <td>5.151715e+06</td>\n",
       "    </tr>\n",
       "    <tr>\n",
       "      <th>5</th>\n",
       "      <td>256</td>\n",
       "      <td>4.746169e+06</td>\n",
       "    </tr>\n",
       "    <tr>\n",
       "      <th>6</th>\n",
       "      <td>512</td>\n",
       "      <td>4.066103e+06</td>\n",
       "    </tr>\n",
       "    <tr>\n",
       "      <th>7</th>\n",
       "      <td>1024</td>\n",
       "      <td>3.522292e+06</td>\n",
       "    </tr>\n",
       "    <tr>\n",
       "      <th>8</th>\n",
       "      <td>2048</td>\n",
       "      <td>2.713796e+06</td>\n",
       "    </tr>\n",
       "    <tr>\n",
       "      <th>9</th>\n",
       "      <td>4096</td>\n",
       "      <td>1.803642e+06</td>\n",
       "    </tr>\n",
       "    <tr>\n",
       "      <th>10</th>\n",
       "      <td>8192</td>\n",
       "      <td>9.624956e+05</td>\n",
       "    </tr>\n",
       "    <tr>\n",
       "      <th>11</th>\n",
       "      <td>16384</td>\n",
       "      <td>4.494197e+05</td>\n",
       "    </tr>\n",
       "    <tr>\n",
       "      <th>12</th>\n",
       "      <td>24576</td>\n",
       "      <td>2.961311e+05</td>\n",
       "    </tr>\n",
       "    <tr>\n",
       "      <th>13</th>\n",
       "      <td>32768</td>\n",
       "      <td>1.814470e+05</td>\n",
       "    </tr>\n",
       "    <tr>\n",
       "      <th>14</th>\n",
       "      <td>40960</td>\n",
       "      <td>1.697755e+05</td>\n",
       "    </tr>\n",
       "    <tr>\n",
       "      <th>15</th>\n",
       "      <td>49152</td>\n",
       "      <td>1.510038e+05</td>\n",
       "    </tr>\n",
       "    <tr>\n",
       "      <th>16</th>\n",
       "      <td>57344</td>\n",
       "      <td>1.435999e+05</td>\n",
       "    </tr>\n",
       "  </tbody>\n",
       "</table>\n",
       "</div>"
      ],
      "text/plain": [
       "        0             1\n",
       "0       8  5.378646e+06\n",
       "1      16  5.783656e+06\n",
       "2      32  5.552940e+06\n",
       "3      64  5.417697e+06\n",
       "4     128  5.151715e+06\n",
       "5     256  4.746169e+06\n",
       "6     512  4.066103e+06\n",
       "7    1024  3.522292e+06\n",
       "8    2048  2.713796e+06\n",
       "9    4096  1.803642e+06\n",
       "10   8192  9.624956e+05\n",
       "11  16384  4.494197e+05\n",
       "12  24576  2.961311e+05\n",
       "13  32768  1.814470e+05\n",
       "14  40960  1.697755e+05\n",
       "15  49152  1.510038e+05\n",
       "16  57344  1.435999e+05"
      ]
     },
     "execution_count": 71,
     "metadata": {},
     "output_type": "execute_result"
    }
   ],
   "source": [
    "df"
   ]
  },
  {
   "cell_type": "code",
   "execution_count": 72,
   "id": "de15b8fd",
   "metadata": {},
   "outputs": [],
   "source": [
    "def plot_messages_per_second():\n",
    "    fig, ax = plt.subplots()\n",
    "\n",
    "    ax.plot(df[0], df[1], label=\"msgs/s\", marker='o')\n",
    "\n",
    "    ax.set_xticks(df[0])\n",
    "    ax.set_ylabel('Msgs/s')\n",
    "    ax.set_xlabel('Message size')\n",
    "    ax.set_xscale('log')\n",
    "    ax.set_title('Average messages per second depending on the size of the message with compression with a high entropy payload')\n",
    "    ax.grid(True)\n",
    "    ax.legend(loc='center right', ncols=1)\n",
    "    fig.set_figwidth(15)\n",
    "    # ax.tick_params(labelcolor='r', labelsize='medium', width=3)\n",
    "    plt.show()\n"
   ]
  },
  {
   "cell_type": "code",
   "execution_count": 73,
   "id": "a0675038",
   "metadata": {},
   "outputs": [
    {
     "data": {
      "image/png": "[encoded data removed]",
      "text/plain": [
       "<Figure size 1500x480 with 1 Axes>"
      ]
     },
     "metadata": {},
     "output_type": "display_data"
    }
   ],
   "source": [
    "plot_messages_per_second()"
   ]
  }
 ],
 "metadata": {
  "kernelspec": {
   "display_name": "Python 3 (ipykernel)",
   "language": "python",
   "name": "python3"
  },
  "language_info": {
   "codemirror_mode": {
    "name": "ipython",
    "version": 3
   },
   "file_extension": ".py",
   "mimetype": "text/x-python",
   "name": "python",
   "nbconvert_exporter": "python",
   "pygments_lexer": "ipython3",
   "version": "3.10.11"
  }
 },
 "nbformat": 4,
 "nbformat_minor": 5
}
